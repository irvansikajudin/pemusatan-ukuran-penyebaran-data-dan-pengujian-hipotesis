{
  "nbformat": 4,
  "nbformat_minor": 0,
  "metadata": {
    "colab": {
      "name": "Hypothesis Testing Concept and the size of the concentration and the size of the spread of the data (descriptive statistics) with marketing_campaign DataSet ",
      "provenance": [],
      "collapsed_sections": [],
      "toc_visible": true
    },
    "kernelspec": {
      "name": "python3",
      "display_name": "Python 3"
    },
    "language_info": {
      "name": "python"
    }
  },
  "cells": [
    {
      "cell_type": "markdown",
      "source": [
        "# SOAL"
      ],
      "metadata": {
        "id": "vuZ9ExsPV_Cp"
      }
    },
    {
      "cell_type": "markdown",
      "source": [
        "1. Cari nilai ukuran pemusatan dan ukuran penyebaran datanya (statistik deskriptif)\n",
        "2. serta lakukan pengujian hipotesis untuk membuktikan apakah education berpengaruh terhadap income atau tidak?"
      ],
      "metadata": {
        "id": "CK6etmh6nCiY"
      }
    },
    {
      "cell_type": "markdown",
      "source": [
        "# Import Library dan Drive Online"
      ],
      "metadata": {
        "id": "DRYw343AWGpA"
      }
    },
    {
      "cell_type": "code",
      "execution_count": null,
      "metadata": {
        "id": "weJPmcrDglyl"
      },
      "outputs": [],
      "source": [
        "import pandas as pd\n",
        "import numpy as np\n",
        "import scipy.stats as st\n",
        "import matplotlib.pyplot as plt"
      ]
    },
    {
      "cell_type": "code",
      "source": [
        "from google.colab import drive\n",
        "drive.mount(\"/content/gdrive\")"
      ],
      "metadata": {
        "colab": {
          "base_uri": "https://localhost:8080/"
        },
        "id": "1MCAbI73idG8",
        "outputId": "c303122c-82e8-4de6-e692-46245dafc600"
      },
      "execution_count": null,
      "outputs": [
        {
          "output_type": "stream",
          "name": "stdout",
          "text": [
            "Mounted at /content/gdrive\n"
          ]
        }
      ]
    },
    {
      "cell_type": "markdown",
      "source": [
        "# **Soal 1.**"
      ],
      "metadata": {
        "id": "qde6Bm7Nz4r7"
      }
    },
    {
      "cell_type": "markdown",
      "source": [
        "### Ukuran Pemusatan Data"
      ],
      "metadata": {
        "id": "oULM_V2C0DTz"
      }
    },
    {
      "cell_type": "code",
      "source": [
        "df = df = pd.read_csv('/content/gdrive/MyDrive/data science/marketing_campaign.csv', sep=\"\\t\") #inport data frame\n",
        "df['Income']=df.Income.fillna(df.Income.mean()) #mengisi nilai nan di income dengan rata-rata\n",
        "df #menampilkan data frame\n"
      ],
      "metadata": {
        "colab": {
          "base_uri": "https://localhost:8080/",
          "height": 488
        },
        "id": "TSXn15f2gttQ",
        "outputId": "41e9b8ab-1928-43b2-dde3-0219bee307aa"
      },
      "execution_count": null,
      "outputs": [
        {
          "output_type": "execute_result",
          "data": {
            "text/html": [
              "\n",
              "  <div id=\"df-7acfcae0-dbc8-4bbf-a5b9-f48fd3f2c8ec\">\n",
              "    <div class=\"colab-df-container\">\n",
              "      <div>\n",
              "<style scoped>\n",
              "    .dataframe tbody tr th:only-of-type {\n",
              "        vertical-align: middle;\n",
              "    }\n",
              "\n",
              "    .dataframe tbody tr th {\n",
              "        vertical-align: top;\n",
              "    }\n",
              "\n",
              "    .dataframe thead th {\n",
              "        text-align: right;\n",
              "    }\n",
              "</style>\n",
              "<table border=\"1\" class=\"dataframe\">\n",
              "  <thead>\n",
              "    <tr style=\"text-align: right;\">\n",
              "      <th></th>\n",
              "      <th>ID</th>\n",
              "      <th>Year_Birth</th>\n",
              "      <th>Education</th>\n",
              "      <th>Marital_Status</th>\n",
              "      <th>Income</th>\n",
              "      <th>Kidhome</th>\n",
              "      <th>Teenhome</th>\n",
              "      <th>Dt_Customer</th>\n",
              "      <th>Recency</th>\n",
              "      <th>MntWines</th>\n",
              "      <th>...</th>\n",
              "      <th>NumWebVisitsMonth</th>\n",
              "      <th>AcceptedCmp3</th>\n",
              "      <th>AcceptedCmp4</th>\n",
              "      <th>AcceptedCmp5</th>\n",
              "      <th>AcceptedCmp1</th>\n",
              "      <th>AcceptedCmp2</th>\n",
              "      <th>Complain</th>\n",
              "      <th>Z_CostContact</th>\n",
              "      <th>Z_Revenue</th>\n",
              "      <th>Response</th>\n",
              "    </tr>\n",
              "  </thead>\n",
              "  <tbody>\n",
              "    <tr>\n",
              "      <th>0</th>\n",
              "      <td>5524</td>\n",
              "      <td>1957</td>\n",
              "      <td>Graduation</td>\n",
              "      <td>Single</td>\n",
              "      <td>58138.0</td>\n",
              "      <td>0</td>\n",
              "      <td>0</td>\n",
              "      <td>04-09-2012</td>\n",
              "      <td>58</td>\n",
              "      <td>635</td>\n",
              "      <td>...</td>\n",
              "      <td>7</td>\n",
              "      <td>0</td>\n",
              "      <td>0</td>\n",
              "      <td>0</td>\n",
              "      <td>0</td>\n",
              "      <td>0</td>\n",
              "      <td>0</td>\n",
              "      <td>3</td>\n",
              "      <td>11</td>\n",
              "      <td>1</td>\n",
              "    </tr>\n",
              "    <tr>\n",
              "      <th>1</th>\n",
              "      <td>2174</td>\n",
              "      <td>1954</td>\n",
              "      <td>Graduation</td>\n",
              "      <td>Single</td>\n",
              "      <td>46344.0</td>\n",
              "      <td>1</td>\n",
              "      <td>1</td>\n",
              "      <td>08-03-2014</td>\n",
              "      <td>38</td>\n",
              "      <td>11</td>\n",
              "      <td>...</td>\n",
              "      <td>5</td>\n",
              "      <td>0</td>\n",
              "      <td>0</td>\n",
              "      <td>0</td>\n",
              "      <td>0</td>\n",
              "      <td>0</td>\n",
              "      <td>0</td>\n",
              "      <td>3</td>\n",
              "      <td>11</td>\n",
              "      <td>0</td>\n",
              "    </tr>\n",
              "    <tr>\n",
              "      <th>2</th>\n",
              "      <td>4141</td>\n",
              "      <td>1965</td>\n",
              "      <td>Graduation</td>\n",
              "      <td>Together</td>\n",
              "      <td>71613.0</td>\n",
              "      <td>0</td>\n",
              "      <td>0</td>\n",
              "      <td>21-08-2013</td>\n",
              "      <td>26</td>\n",
              "      <td>426</td>\n",
              "      <td>...</td>\n",
              "      <td>4</td>\n",
              "      <td>0</td>\n",
              "      <td>0</td>\n",
              "      <td>0</td>\n",
              "      <td>0</td>\n",
              "      <td>0</td>\n",
              "      <td>0</td>\n",
              "      <td>3</td>\n",
              "      <td>11</td>\n",
              "      <td>0</td>\n",
              "    </tr>\n",
              "    <tr>\n",
              "      <th>3</th>\n",
              "      <td>6182</td>\n",
              "      <td>1984</td>\n",
              "      <td>Graduation</td>\n",
              "      <td>Together</td>\n",
              "      <td>26646.0</td>\n",
              "      <td>1</td>\n",
              "      <td>0</td>\n",
              "      <td>10-02-2014</td>\n",
              "      <td>26</td>\n",
              "      <td>11</td>\n",
              "      <td>...</td>\n",
              "      <td>6</td>\n",
              "      <td>0</td>\n",
              "      <td>0</td>\n",
              "      <td>0</td>\n",
              "      <td>0</td>\n",
              "      <td>0</td>\n",
              "      <td>0</td>\n",
              "      <td>3</td>\n",
              "      <td>11</td>\n",
              "      <td>0</td>\n",
              "    </tr>\n",
              "    <tr>\n",
              "      <th>4</th>\n",
              "      <td>5324</td>\n",
              "      <td>1981</td>\n",
              "      <td>PhD</td>\n",
              "      <td>Married</td>\n",
              "      <td>58293.0</td>\n",
              "      <td>1</td>\n",
              "      <td>0</td>\n",
              "      <td>19-01-2014</td>\n",
              "      <td>94</td>\n",
              "      <td>173</td>\n",
              "      <td>...</td>\n",
              "      <td>5</td>\n",
              "      <td>0</td>\n",
              "      <td>0</td>\n",
              "      <td>0</td>\n",
              "      <td>0</td>\n",
              "      <td>0</td>\n",
              "      <td>0</td>\n",
              "      <td>3</td>\n",
              "      <td>11</td>\n",
              "      <td>0</td>\n",
              "    </tr>\n",
              "    <tr>\n",
              "      <th>...</th>\n",
              "      <td>...</td>\n",
              "      <td>...</td>\n",
              "      <td>...</td>\n",
              "      <td>...</td>\n",
              "      <td>...</td>\n",
              "      <td>...</td>\n",
              "      <td>...</td>\n",
              "      <td>...</td>\n",
              "      <td>...</td>\n",
              "      <td>...</td>\n",
              "      <td>...</td>\n",
              "      <td>...</td>\n",
              "      <td>...</td>\n",
              "      <td>...</td>\n",
              "      <td>...</td>\n",
              "      <td>...</td>\n",
              "      <td>...</td>\n",
              "      <td>...</td>\n",
              "      <td>...</td>\n",
              "      <td>...</td>\n",
              "      <td>...</td>\n",
              "    </tr>\n",
              "    <tr>\n",
              "      <th>2235</th>\n",
              "      <td>10870</td>\n",
              "      <td>1967</td>\n",
              "      <td>Graduation</td>\n",
              "      <td>Married</td>\n",
              "      <td>61223.0</td>\n",
              "      <td>0</td>\n",
              "      <td>1</td>\n",
              "      <td>13-06-2013</td>\n",
              "      <td>46</td>\n",
              "      <td>709</td>\n",
              "      <td>...</td>\n",
              "      <td>5</td>\n",
              "      <td>0</td>\n",
              "      <td>0</td>\n",
              "      <td>0</td>\n",
              "      <td>0</td>\n",
              "      <td>0</td>\n",
              "      <td>0</td>\n",
              "      <td>3</td>\n",
              "      <td>11</td>\n",
              "      <td>0</td>\n",
              "    </tr>\n",
              "    <tr>\n",
              "      <th>2236</th>\n",
              "      <td>4001</td>\n",
              "      <td>1946</td>\n",
              "      <td>PhD</td>\n",
              "      <td>Together</td>\n",
              "      <td>64014.0</td>\n",
              "      <td>2</td>\n",
              "      <td>1</td>\n",
              "      <td>10-06-2014</td>\n",
              "      <td>56</td>\n",
              "      <td>406</td>\n",
              "      <td>...</td>\n",
              "      <td>7</td>\n",
              "      <td>0</td>\n",
              "      <td>0</td>\n",
              "      <td>0</td>\n",
              "      <td>1</td>\n",
              "      <td>0</td>\n",
              "      <td>0</td>\n",
              "      <td>3</td>\n",
              "      <td>11</td>\n",
              "      <td>0</td>\n",
              "    </tr>\n",
              "    <tr>\n",
              "      <th>2237</th>\n",
              "      <td>7270</td>\n",
              "      <td>1981</td>\n",
              "      <td>Graduation</td>\n",
              "      <td>Divorced</td>\n",
              "      <td>56981.0</td>\n",
              "      <td>0</td>\n",
              "      <td>0</td>\n",
              "      <td>25-01-2014</td>\n",
              "      <td>91</td>\n",
              "      <td>908</td>\n",
              "      <td>...</td>\n",
              "      <td>6</td>\n",
              "      <td>0</td>\n",
              "      <td>1</td>\n",
              "      <td>0</td>\n",
              "      <td>0</td>\n",
              "      <td>0</td>\n",
              "      <td>0</td>\n",
              "      <td>3</td>\n",
              "      <td>11</td>\n",
              "      <td>0</td>\n",
              "    </tr>\n",
              "    <tr>\n",
              "      <th>2238</th>\n",
              "      <td>8235</td>\n",
              "      <td>1956</td>\n",
              "      <td>Master</td>\n",
              "      <td>Together</td>\n",
              "      <td>69245.0</td>\n",
              "      <td>0</td>\n",
              "      <td>1</td>\n",
              "      <td>24-01-2014</td>\n",
              "      <td>8</td>\n",
              "      <td>428</td>\n",
              "      <td>...</td>\n",
              "      <td>3</td>\n",
              "      <td>0</td>\n",
              "      <td>0</td>\n",
              "      <td>0</td>\n",
              "      <td>0</td>\n",
              "      <td>0</td>\n",
              "      <td>0</td>\n",
              "      <td>3</td>\n",
              "      <td>11</td>\n",
              "      <td>0</td>\n",
              "    </tr>\n",
              "    <tr>\n",
              "      <th>2239</th>\n",
              "      <td>9405</td>\n",
              "      <td>1954</td>\n",
              "      <td>PhD</td>\n",
              "      <td>Married</td>\n",
              "      <td>52869.0</td>\n",
              "      <td>1</td>\n",
              "      <td>1</td>\n",
              "      <td>15-10-2012</td>\n",
              "      <td>40</td>\n",
              "      <td>84</td>\n",
              "      <td>...</td>\n",
              "      <td>7</td>\n",
              "      <td>0</td>\n",
              "      <td>0</td>\n",
              "      <td>0</td>\n",
              "      <td>0</td>\n",
              "      <td>0</td>\n",
              "      <td>0</td>\n",
              "      <td>3</td>\n",
              "      <td>11</td>\n",
              "      <td>1</td>\n",
              "    </tr>\n",
              "  </tbody>\n",
              "</table>\n",
              "<p>2240 rows × 29 columns</p>\n",
              "</div>\n",
              "      <button class=\"colab-df-convert\" onclick=\"convertToInteractive('df-7acfcae0-dbc8-4bbf-a5b9-f48fd3f2c8ec')\"\n",
              "              title=\"Convert this dataframe to an interactive table.\"\n",
              "              style=\"display:none;\">\n",
              "        \n",
              "  <svg xmlns=\"http://www.w3.org/2000/svg\" height=\"24px\"viewBox=\"0 0 24 24\"\n",
              "       width=\"24px\">\n",
              "    <path d=\"M0 0h24v24H0V0z\" fill=\"none\"/>\n",
              "    <path d=\"M18.56 5.44l.94 2.06.94-2.06 2.06-.94-2.06-.94-.94-2.06-.94 2.06-2.06.94zm-11 1L8.5 8.5l.94-2.06 2.06-.94-2.06-.94L8.5 2.5l-.94 2.06-2.06.94zm10 10l.94 2.06.94-2.06 2.06-.94-2.06-.94-.94-2.06-.94 2.06-2.06.94z\"/><path d=\"M17.41 7.96l-1.37-1.37c-.4-.4-.92-.59-1.43-.59-.52 0-1.04.2-1.43.59L10.3 9.45l-7.72 7.72c-.78.78-.78 2.05 0 2.83L4 21.41c.39.39.9.59 1.41.59.51 0 1.02-.2 1.41-.59l7.78-7.78 2.81-2.81c.8-.78.8-2.07 0-2.86zM5.41 20L4 18.59l7.72-7.72 1.47 1.35L5.41 20z\"/>\n",
              "  </svg>\n",
              "      </button>\n",
              "      \n",
              "  <style>\n",
              "    .colab-df-container {\n",
              "      display:flex;\n",
              "      flex-wrap:wrap;\n",
              "      gap: 12px;\n",
              "    }\n",
              "\n",
              "    .colab-df-convert {\n",
              "      background-color: #E8F0FE;\n",
              "      border: none;\n",
              "      border-radius: 50%;\n",
              "      cursor: pointer;\n",
              "      display: none;\n",
              "      fill: #1967D2;\n",
              "      height: 32px;\n",
              "      padding: 0 0 0 0;\n",
              "      width: 32px;\n",
              "    }\n",
              "\n",
              "    .colab-df-convert:hover {\n",
              "      background-color: #E2EBFA;\n",
              "      box-shadow: 0px 1px 2px rgba(60, 64, 67, 0.3), 0px 1px 3px 1px rgba(60, 64, 67, 0.15);\n",
              "      fill: #174EA6;\n",
              "    }\n",
              "\n",
              "    [theme=dark] .colab-df-convert {\n",
              "      background-color: #3B4455;\n",
              "      fill: #D2E3FC;\n",
              "    }\n",
              "\n",
              "    [theme=dark] .colab-df-convert:hover {\n",
              "      background-color: #434B5C;\n",
              "      box-shadow: 0px 1px 3px 1px rgba(0, 0, 0, 0.15);\n",
              "      filter: drop-shadow(0px 1px 2px rgba(0, 0, 0, 0.3));\n",
              "      fill: #FFFFFF;\n",
              "    }\n",
              "  </style>\n",
              "\n",
              "      <script>\n",
              "        const buttonEl =\n",
              "          document.querySelector('#df-7acfcae0-dbc8-4bbf-a5b9-f48fd3f2c8ec button.colab-df-convert');\n",
              "        buttonEl.style.display =\n",
              "          google.colab.kernel.accessAllowed ? 'block' : 'none';\n",
              "\n",
              "        async function convertToInteractive(key) {\n",
              "          const element = document.querySelector('#df-7acfcae0-dbc8-4bbf-a5b9-f48fd3f2c8ec');\n",
              "          const dataTable =\n",
              "            await google.colab.kernel.invokeFunction('convertToInteractive',\n",
              "                                                     [key], {});\n",
              "          if (!dataTable) return;\n",
              "\n",
              "          const docLinkHtml = 'Like what you see? Visit the ' +\n",
              "            '<a target=\"_blank\" href=https://colab.research.google.com/notebooks/data_table.ipynb>data table notebook</a>'\n",
              "            + ' to learn more about interactive tables.';\n",
              "          element.innerHTML = '';\n",
              "          dataTable['output_type'] = 'display_data';\n",
              "          await google.colab.output.renderOutput(dataTable, element);\n",
              "          const docLink = document.createElement('div');\n",
              "          docLink.innerHTML = docLinkHtml;\n",
              "          element.appendChild(docLink);\n",
              "        }\n",
              "      </script>\n",
              "    </div>\n",
              "  </div>\n",
              "  "
            ],
            "text/plain": [
              "         ID  Year_Birth   Education Marital_Status   Income  Kidhome  \\\n",
              "0      5524        1957  Graduation         Single  58138.0        0   \n",
              "1      2174        1954  Graduation         Single  46344.0        1   \n",
              "2      4141        1965  Graduation       Together  71613.0        0   \n",
              "3      6182        1984  Graduation       Together  26646.0        1   \n",
              "4      5324        1981         PhD        Married  58293.0        1   \n",
              "...     ...         ...         ...            ...      ...      ...   \n",
              "2235  10870        1967  Graduation        Married  61223.0        0   \n",
              "2236   4001        1946         PhD       Together  64014.0        2   \n",
              "2237   7270        1981  Graduation       Divorced  56981.0        0   \n",
              "2238   8235        1956      Master       Together  69245.0        0   \n",
              "2239   9405        1954         PhD        Married  52869.0        1   \n",
              "\n",
              "      Teenhome Dt_Customer  Recency  MntWines  ...  NumWebVisitsMonth  \\\n",
              "0            0  04-09-2012       58       635  ...                  7   \n",
              "1            1  08-03-2014       38        11  ...                  5   \n",
              "2            0  21-08-2013       26       426  ...                  4   \n",
              "3            0  10-02-2014       26        11  ...                  6   \n",
              "4            0  19-01-2014       94       173  ...                  5   \n",
              "...        ...         ...      ...       ...  ...                ...   \n",
              "2235         1  13-06-2013       46       709  ...                  5   \n",
              "2236         1  10-06-2014       56       406  ...                  7   \n",
              "2237         0  25-01-2014       91       908  ...                  6   \n",
              "2238         1  24-01-2014        8       428  ...                  3   \n",
              "2239         1  15-10-2012       40        84  ...                  7   \n",
              "\n",
              "      AcceptedCmp3  AcceptedCmp4  AcceptedCmp5  AcceptedCmp1  AcceptedCmp2  \\\n",
              "0                0             0             0             0             0   \n",
              "1                0             0             0             0             0   \n",
              "2                0             0             0             0             0   \n",
              "3                0             0             0             0             0   \n",
              "4                0             0             0             0             0   \n",
              "...            ...           ...           ...           ...           ...   \n",
              "2235             0             0             0             0             0   \n",
              "2236             0             0             0             1             0   \n",
              "2237             0             1             0             0             0   \n",
              "2238             0             0             0             0             0   \n",
              "2239             0             0             0             0             0   \n",
              "\n",
              "      Complain  Z_CostContact  Z_Revenue  Response  \n",
              "0            0              3         11         1  \n",
              "1            0              3         11         0  \n",
              "2            0              3         11         0  \n",
              "3            0              3         11         0  \n",
              "4            0              3         11         0  \n",
              "...        ...            ...        ...       ...  \n",
              "2235         0              3         11         0  \n",
              "2236         0              3         11         0  \n",
              "2237         0              3         11         0  \n",
              "2238         0              3         11         0  \n",
              "2239         0              3         11         1  \n",
              "\n",
              "[2240 rows x 29 columns]"
            ]
          },
          "metadata": {},
          "execution_count": 4
        }
      ]
    },
    {
      "cell_type": "code",
      "source": [
        "# menampilkan value unik dan menampilkan totalnya per value pada variabel terentu\n",
        "np.unique(df['Education'], return_counts=True)"
      ],
      "metadata": {
        "colab": {
          "base_uri": "https://localhost:8080/"
        },
        "id": "gucGo3GJybLm",
        "outputId": "b72e7814-80f7-4b85-b5d9-5c046ef575fe"
      },
      "execution_count": null,
      "outputs": [
        {
          "output_type": "execute_result",
          "data": {
            "text/plain": [
              "(array(['2n Cycle', 'Basic', 'Graduation', 'Master', 'PhD'], dtype=object),\n",
              " array([ 203,   54, 1127,  370,  486]))"
            ]
          },
          "metadata": {},
          "execution_count": 5
        }
      ]
    },
    {
      "cell_type": "code",
      "source": [
        "# ini adalah ukuran pemusatan dari income\n",
        "\n",
        "# round adalah untuk hanya menampilkan 2 angka di blkang koma, dijelaskan dengan angka 2\n",
        "print(\"Mencari Mean Income Menggunakan Numpy \\t\\t\\t:\", round(np.mean(df['Income']),2))\n",
        "print(\"Mencari Median Income Menggunakan Numpy \\t\\t:\", np.median(df['Income']))\n",
        "print(\"Mencari Mode/Modus Income Menggunakan Scipy.stat \\t:\", st.mode(df['Income']))\n",
        "\n",
        "\n",
        "val, count = st.mode(df['Income']) # output akan melihat dua nilai, pertama adalah nilai mode, kedua adalah hitungan mode itu\n",
        "print('Mode dari Income adalah \\t\\t\\t\\t:', round(val[0],2)) # value mode\n",
        "print('Frekuensi mode mucul dari Income adalah \\t\\t:', count[0]) # frekuensi mode/modus\n",
        "print(df.shape) # menunjukkan jumlah baris dan kolom\n",
        " \n"
      ],
      "metadata": {
        "colab": {
          "base_uri": "https://localhost:8080/"
        },
        "id": "KFPBFCCDg9Kx",
        "outputId": "2e2a51e9-3be2-4e7a-a50a-450a1fd380cd"
      },
      "execution_count": null,
      "outputs": [
        {
          "output_type": "stream",
          "name": "stdout",
          "text": [
            "Mencari Mean Income Menggunakan Numpy \t\t\t: 52247.25\n",
            "Mencari Median Income Menggunakan Numpy \t\t: 51741.5\n",
            "Mencari Mode/Modus Income Menggunakan Scipy.stat \t: ModeResult(mode=array([52247.25135379]), count=array([24]))\n",
            "Mode dari Income adalah \t\t\t\t: 52247.25\n",
            "Frekuensi mode mucul dari Income adalah \t\t: 24\n",
            "(2240, 29)\n"
          ]
        }
      ]
    },
    {
      "cell_type": "markdown",
      "source": [
        "### Ukuran Penyebaran Data"
      ],
      "metadata": {
        "id": "LETCKsT00OqT"
      }
    },
    {
      "cell_type": "markdown",
      "source": [
        "1. variance \n",
        "2. standart deviation\n",
        "3. range\n",
        "4. quartile"
      ],
      "metadata": {
        "id": "WcWTe2p70Wz8"
      }
    },
    {
      "cell_type": "code",
      "source": [
        "print(\"Mencari Variance Income Menggunakan Numpy \\t\\t:\", np.var(df['Income']))\n",
        "print(\"Mencari Standard Deviation Income Menggunakan Numpy \\t:\", np.std(df['Income']))\n",
        "print(\"Mencari Range Income Menggunakan Numpy \\t\\t\\t:\", max(df['Income']) - min(df['Income']))  # semakin besar Range maka datanya semakin tersebar\n",
        "\n",
        "#ini quartile\n",
        "q1 = np.quantile(df['Income'], 0.25)\n",
        "q2 = np.quantile(df['Income'], 0.5) #q2 sama seperti median\n",
        "q3 = np.quantile(df['Income'], 0.75)\n",
        "\n",
        "print(\"Quartil ke-1 dari Income adalah \\t\\t\\t:\", q1)\n",
        "print(\"Quartil ke-2 dari Income adalah \\t\\t\\t:\", q2)\n",
        "print(\"Quartil ke-3 dari Income adalah \\t\\t\\t:\", q3)\n"
      ],
      "metadata": {
        "colab": {
          "base_uri": "https://localhost:8080/"
        },
        "id": "Ww5QDnwm0wqg",
        "outputId": "c71ba561-08af-464e-d16b-186f6bcf9911"
      },
      "execution_count": null,
      "outputs": [
        {
          "output_type": "stream",
          "name": "stdout",
          "text": [
            "Mencari Variance Income Menggunakan Numpy \t\t: 626611424.8638378\n",
            "Mencari Standard Deviation Income Menggunakan Numpy \t: 25032.207750492922\n",
            "Mencari Range Income Menggunakan Numpy \t\t\t: 664936.0\n",
            "Quartil ke-1 dari Income adalah \t\t\t: 35538.75\n",
            "Quartil ke-2 dari Income adalah \t\t\t: 51741.5\n",
            "Quartil ke-3 dari Income adalah \t\t\t: 68289.75\n"
          ]
        }
      ]
    },
    {
      "cell_type": "markdown",
      "source": [
        "# **Soal 2.**"
      ],
      "metadata": {
        "id": "eiDPb8-cEn-4"
      }
    },
    {
      "cell_type": "markdown",
      "source": [
        "saya tidak menggunaka teknik sampling karena dataframe yang ada masih mampu di handle langsung oleh komputer saya sehingga tidak memperlukan teknik sampling dan untuk tujuan agar hasil test dapat lebih mempresentasikan nilai sebenarnya dari data."
      ],
      "metadata": {
        "id": "BdC9fMz4ULPB"
      }
    },
    {
      "cell_type": "markdown",
      "source": [
        "### Tes Hipotesis, Perhitungan dan Kesimpulan"
      ],
      "metadata": {
        "id": "P5a7MWf2Et8Y"
      }
    },
    {
      "cell_type": "markdown",
      "source": [
        "#### Langkah 1 (Hipotesa)"
      ],
      "metadata": {
        "id": "J2zTE8LRKoVt"
      }
    },
    {
      "cell_type": "markdown",
      "source": [
        "Usage The Greek letter μ (mu) is used in statistics to represent the population mean of a distribution\n",
        "\n",
        "*   H0 : μ1 = μ2 = μ3 = μ4\n",
        "*   H1 : μi ≠ μj, i,j = 1,2,3,4\n",
        "\n",
        "atau \n",
        "\n",
        "*   H0 : μ_merah = μ_biru = μ_kuning = μ_hijau\n",
        "*   H1 : μi ≠ μj, i,j = merah, biru, Kuning, hijau i≠j\n",
        "\n",
        "Contoh : jika ada perbedaan antar nilai μ (mu), maka H1 diterima atau berpengaruh (warna berpengaruh)\n",
        "\n",
        "Berikut hipotesis dari soal: \n",
        "\n",
        "*   H0 : μ_graduation = μ_phd = μ_master = μ_2nCycle = μ_basic\n",
        "*   H1 : μi ≠ μj, i,j = graduation, phd, master, 2nCycle, basic i≠j\n",
        "\n",
        "yakni :\n",
        "\n",
        "*   H0 : Education tidak berpengaruh terhadap Income\n",
        "*   H1 : Education berpengaruh terhadap Income\n"
      ],
      "metadata": {
        "id": "2P0iC2SCIF90"
      }
    },
    {
      "cell_type": "markdown",
      "source": [
        "####Langkah 2 (Perhitungan)"
      ],
      "metadata": {
        "id": "MGl_Lk84K0HX"
      }
    },
    {
      "cell_type": "code",
      "source": [
        "# untuk melihat value unik di varibel Education\n",
        "df['Education'].value_counts()"
      ],
      "metadata": {
        "colab": {
          "base_uri": "https://localhost:8080/"
        },
        "id": "c0TQu5IlOVwH",
        "outputId": "fc4766e2-f61c-4725-b0f5-1b177447df05"
      },
      "execution_count": null,
      "outputs": [
        {
          "output_type": "execute_result",
          "data": {
            "text/plain": [
              "Graduation    1127\n",
              "PhD            486\n",
              "Master         370\n",
              "2n Cycle       203\n",
              "Basic           54\n",
              "Name: Education, dtype: int64"
            ]
          },
          "metadata": {},
          "execution_count": 7
        }
      ]
    },
    {
      "cell_type": "code",
      "source": [
        "df_graduation = df[df['Education'] == 'Graduation']\n",
        "df_phd = df[df['Education'] == 'PhD']\n",
        "df_master = df[df['Education'] == 'Master']\n",
        "df_2nc = df[df['Education'] == '2n Cycle']\n",
        "df_basic = df[df['Education'] == 'Basic']"
      ],
      "metadata": {
        "id": "a4FzEXNuLFDQ"
      },
      "execution_count": null,
      "outputs": []
    },
    {
      "cell_type": "code",
      "source": [
        "# ANOVA TEST\n",
        "anova_test = st.f_oneway(df_graduation['Income'],\n",
        "                         df_phd['Income'],\n",
        "                         df_master['Income'],\n",
        "                         df_2nc['Income'],\n",
        "                         df_basic['Income'])"
      ],
      "metadata": {
        "id": "Q7z0twl-QKlo"
      },
      "execution_count": null,
      "outputs": []
    },
    {
      "cell_type": "code",
      "source": [
        "# nilai P-VALUE\n",
        "anova_test.pvalue"
      ],
      "metadata": {
        "colab": {
          "base_uri": "https://localhost:8080/"
        },
        "id": "Z_hW8ylUREZx",
        "outputId": "6da74fa5-ab49-4408-9e10-10d3b0d43027"
      },
      "execution_count": null,
      "outputs": [
        {
          "output_type": "execute_result",
          "data": {
            "text/plain": [
              "1.0531133036234708e-22"
            ]
          },
          "metadata": {},
          "execution_count": 10
        }
      ]
    },
    {
      "cell_type": "code",
      "source": [
        "# perbandingan P-value terhadap Alpha\n",
        "if anova_test.pvalue>0.05:\n",
        "    print('Income memiliki rata-rata yang sama')\n",
        "else:\n",
        "    print('Income memiliki rata-rata  yang berbeda signifikan')"
      ],
      "metadata": {
        "colab": {
          "base_uri": "https://localhost:8080/"
        },
        "id": "VHX22SP3RFZ_",
        "outputId": "3ade4e83-01b9-4219-8c59-ebd884c0fcf2"
      },
      "execution_count": null,
      "outputs": [
        {
          "output_type": "stream",
          "name": "stdout",
          "text": [
            "Income memiliki rata-rata  yang berbeda signifikan\n"
          ]
        }
      ]
    },
    {
      "cell_type": "code",
      "source": [
        "df.groupby(['Education'])['Income'].mean()"
      ],
      "metadata": {
        "colab": {
          "base_uri": "https://localhost:8080/"
        },
        "id": "MPXjjvXBSBw9",
        "outputId": "7d6b71ac-ba19-47bf-fadc-642cf252c12c"
      },
      "execution_count": null,
      "outputs": [
        {
          "output_type": "execute_result",
          "data": {
            "text/plain": [
              "Education\n",
              "2n Cycle      47701.378099\n",
              "Basic         20306.259259\n",
              "Graduation    52715.755781\n",
              "Master        52908.476370\n",
              "PhD           56105.210405\n",
              "Name: Income, dtype: float64"
            ]
          },
          "metadata": {},
          "execution_count": 12
        }
      ]
    },
    {
      "cell_type": "markdown",
      "source": [
        "####Langkah 3 (Kesimpulan)"
      ],
      "metadata": {
        "id": "uG2bCgp0L7v3"
      }
    },
    {
      "cell_type": "markdown",
      "source": [
        "Karena ada rata-rata yang beda signifikan  dan P-value < 0,05 maka kesimpulannya adalah Education berpengaruh terhadap Income"
      ],
      "metadata": {
        "id": "r7uAbt_ZSQeY"
      }
    }
  ]
}